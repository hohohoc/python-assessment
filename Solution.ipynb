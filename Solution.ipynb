{
 "cells": [
  {
   "cell_type": "code",
   "execution_count": 1,
   "id": "c7517b92",
   "metadata": {},
   "outputs": [
    {
     "name": "stdout",
     "output_type": "stream",
     "text": [
      "[{'name': 'Google', 'url': 'https://www.google.co.uk', 'domain': 'google.co.uk', 'secure': True, 'value': 5}, {'name': 'Facebook', 'url': 'https://developers.facebook.com/blog/post/2018/10/02/facebook-login-update/', 'domain': 'facebook.com', 'secure': True, 'value': 4}, {'name': 'Bing', 'url': 'https://www.bing.com/search?q=athlete&qs=n&form=QBLH&sp=-1&pq=athlete&sc=8-7&sk=&cvid=53830DD7FB2E47B7A5D9CF27F106BC9A', 'domain': 'bing.com', 'secure': False, 'value': 3}, {'name': 'Ask', 'url': 'https://uk.ask.com/web?o=0&l=dir&qo=serpSearchTopBox&q=jupiter', 'domain': 'ask.com', 'secure': False, 'value': 1}, {'name': 'Duck Duck Go', 'url': 'http://duckduckgo.com/?q=plane&t=h_&ia=web', 'domain': 'duckduckgo.com', 'secure': True, 'value': 2}, {'name': 'Vimeo', 'url': 'https://vimeo.com/53812885', 'domain': 'vimeo.com', 'secure': False, 'value': 2}, {'name': 'YouTube', 'url': 'https://www.youtube.com/watch?v=09Cd7NKKvDc', 'domain': 'youtube.com', 'secure': True, 'value': 5}, {'name': 'Daily Motion', 'url': 'http://www.dailymotion.com/search/football', 'domain': 'dailymotion.com', 'secure': True, 'value': 1}]\n"
     ]
    }
   ],
   "source": [
    "from websites.resources.data import WEBSITES\n",
    "print(WEBSITES)"
   ]
  },
  {
   "cell_type": "markdown",
   "id": "9e9831e0",
   "metadata": {},
   "source": [
    "Task One: Find Data\n",
    "Find and return a new list of data where each item's value key is equal to or greater than four."
   ]
  },
  {
   "cell_type": "code",
   "execution_count": 2,
   "id": "a1627c4c",
   "metadata": {},
   "outputs": [
    {
     "data": {
      "text/plain": [
       "[{'name': 'Google',\n",
       "  'url': 'https://www.google.co.uk',\n",
       "  'domain': 'google.co.uk',\n",
       "  'secure': True,\n",
       "  'value': 5},\n",
       " {'name': 'Facebook',\n",
       "  'url': 'https://developers.facebook.com/blog/post/2018/10/02/facebook-login-update/',\n",
       "  'domain': 'facebook.com',\n",
       "  'secure': True,\n",
       "  'value': 4},\n",
       " {'name': 'YouTube',\n",
       "  'url': 'https://www.youtube.com/watch?v=09Cd7NKKvDc',\n",
       "  'domain': 'youtube.com',\n",
       "  'secure': True,\n",
       "  'value': 5}]"
      ]
     },
     "execution_count": 2,
     "metadata": {},
     "output_type": "execute_result"
    }
   ],
   "source": [
    "temp = []\n",
    "for i in range(len(WEBSITES)):\n",
    "    if WEBSITES[i].get('value') >= 4:\n",
    "        temp.append(WEBSITES[i])\n",
    "        \n",
    "temp"
   ]
  },
  {
   "cell_type": "markdown",
   "id": "ff39f2a8",
   "metadata": {},
   "source": [
    "Task Two: Amend Data\n",
    "Amend the list so each domain key value is prepended with the string www."
   ]
  },
  {
   "cell_type": "code",
   "execution_count": 3,
   "id": "255db1ef",
   "metadata": {},
   "outputs": [
    {
     "data": {
      "text/plain": [
       "[{'name': 'Google',\n",
       "  'url': 'https://www.google.co.uk',\n",
       "  'domain': 'www.google.co.uk',\n",
       "  'secure': True,\n",
       "  'value': 5},\n",
       " {'name': 'Facebook',\n",
       "  'url': 'https://developers.facebook.com/blog/post/2018/10/02/facebook-login-update/',\n",
       "  'domain': 'www.facebook.com',\n",
       "  'secure': True,\n",
       "  'value': 4},\n",
       " {'name': 'Bing',\n",
       "  'url': 'https://www.bing.com/search?q=athlete&qs=n&form=QBLH&sp=-1&pq=athlete&sc=8-7&sk=&cvid=53830DD7FB2E47B7A5D9CF27F106BC9A',\n",
       "  'domain': 'www.bing.com',\n",
       "  'secure': False,\n",
       "  'value': 3},\n",
       " {'name': 'Ask',\n",
       "  'url': 'https://uk.ask.com/web?o=0&l=dir&qo=serpSearchTopBox&q=jupiter',\n",
       "  'domain': 'www.ask.com',\n",
       "  'secure': False,\n",
       "  'value': 1},\n",
       " {'name': 'Duck Duck Go',\n",
       "  'url': 'http://duckduckgo.com/?q=plane&t=h_&ia=web',\n",
       "  'domain': 'www.duckduckgo.com',\n",
       "  'secure': True,\n",
       "  'value': 2},\n",
       " {'name': 'Vimeo',\n",
       "  'url': 'https://vimeo.com/53812885',\n",
       "  'domain': 'www.vimeo.com',\n",
       "  'secure': False,\n",
       "  'value': 2},\n",
       " {'name': 'YouTube',\n",
       "  'url': 'https://www.youtube.com/watch?v=09Cd7NKKvDc',\n",
       "  'domain': 'www.youtube.com',\n",
       "  'secure': True,\n",
       "  'value': 5},\n",
       " {'name': 'Daily Motion',\n",
       "  'url': 'http://www.dailymotion.com/search/football',\n",
       "  'domain': 'www.dailymotion.com',\n",
       "  'secure': True,\n",
       "  'value': 1}]"
      ]
     },
     "execution_count": 3,
     "metadata": {},
     "output_type": "execute_result"
    }
   ],
   "source": [
    "for i in range(len(WEBSITES)):\n",
    "    y = 'www.' + WEBSITES[i].get('domain')\n",
    "    WEBSITES[i]['domain'] = y\n",
    "    \n",
    "WEBSITES"
   ]
  },
  {
   "cell_type": "markdown",
   "id": "c8571e23",
   "metadata": {},
   "source": [
    "Task Three: Cleanse Data\n",
    "Some of the data is inaccurate, the secure key is set to False when the url key contains a URL beginning with https://. The opposite is also true in some cases.\n",
    "\n",
    "The list should be cleansed and returned so the secure keys are accurate."
   ]
  },
  {
   "cell_type": "code",
   "execution_count": 8,
   "id": "69622c64",
   "metadata": {},
   "outputs": [
    {
     "data": {
      "text/plain": [
       "[{'name': 'Google',\n",
       "  'url': 'https://www.google.co.uk',\n",
       "  'domain': 'www.google.co.uk',\n",
       "  'secure': 'True',\n",
       "  'value': 5},\n",
       " {'name': 'Facebook',\n",
       "  'url': 'https://developers.facebook.com/blog/post/2018/10/02/facebook-login-update/',\n",
       "  'domain': 'www.facebook.com',\n",
       "  'secure': 'True',\n",
       "  'value': 4},\n",
       " {'name': 'Bing',\n",
       "  'url': 'https://www.bing.com/search?q=athlete&qs=n&form=QBLH&sp=-1&pq=athlete&sc=8-7&sk=&cvid=53830DD7FB2E47B7A5D9CF27F106BC9A',\n",
       "  'domain': 'www.bing.com',\n",
       "  'secure': 'True',\n",
       "  'value': 3},\n",
       " {'name': 'Ask',\n",
       "  'url': 'https://uk.ask.com/web?o=0&l=dir&qo=serpSearchTopBox&q=jupiter',\n",
       "  'domain': 'www.ask.com',\n",
       "  'secure': 'True',\n",
       "  'value': 1},\n",
       " {'name': 'Duck Duck Go',\n",
       "  'url': 'http://duckduckgo.com/?q=plane&t=h_&ia=web',\n",
       "  'domain': 'www.duckduckgo.com',\n",
       "  'secure': 'False',\n",
       "  'value': 2},\n",
       " {'name': 'Vimeo',\n",
       "  'url': 'https://vimeo.com/53812885',\n",
       "  'domain': 'www.vimeo.com',\n",
       "  'secure': 'True',\n",
       "  'value': 2},\n",
       " {'name': 'YouTube',\n",
       "  'url': 'https://www.youtube.com/watch?v=09Cd7NKKvDc',\n",
       "  'domain': 'www.youtube.com',\n",
       "  'secure': 'True',\n",
       "  'value': 5},\n",
       " {'name': 'Daily Motion',\n",
       "  'url': 'http://www.dailymotion.com/search/football',\n",
       "  'domain': 'www.dailymotion.com',\n",
       "  'secure': 'False',\n",
       "  'value': 1}]"
      ]
     },
     "execution_count": 8,
     "metadata": {},
     "output_type": "execute_result"
    }
   ],
   "source": [
    "search_key = 'https'\n",
    "\n",
    "for x in range(len(WEBSITES)):\n",
    "    if search_key in WEBSITES[x]['url']:\n",
    "        WEBSITES[x]['secure'] = 'True'\n",
    "    else:\n",
    "        WEBSITES[x]['secure'] = 'False'\n",
    "\n",
    "WEBSITES"
   ]
  },
  {
   "cell_type": "markdown",
   "id": "f1eafec8",
   "metadata": {},
   "source": [
    "Task Four: Data Calculation\n",
    "Add up all the value keys in the list and return an integer."
   ]
  },
  {
   "cell_type": "code",
   "execution_count": 11,
   "id": "257c902c",
   "metadata": {},
   "outputs": [
    {
     "data": {
      "text/plain": [
       "23"
      ]
     },
     "execution_count": 11,
     "metadata": {},
     "output_type": "execute_result"
    }
   ],
   "source": [
    "sum = 0\n",
    "\n",
    "for i in range(len(WEBSITES)):\n",
    "    sum += WEBSITES[i]['value']\n",
    "    \n",
    "sum"
   ]
  }
 ],
 "metadata": {
  "kernelspec": {
   "display_name": "Python 3 (ipykernel)",
   "language": "python",
   "name": "python3"
  },
  "language_info": {
   "codemirror_mode": {
    "name": "ipython",
    "version": 3
   },
   "file_extension": ".py",
   "mimetype": "text/x-python",
   "name": "python",
   "nbconvert_exporter": "python",
   "pygments_lexer": "ipython3",
   "version": "3.9.7"
  }
 },
 "nbformat": 4,
 "nbformat_minor": 5
}
